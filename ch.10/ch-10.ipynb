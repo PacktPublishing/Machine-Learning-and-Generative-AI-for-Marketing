{
 "cells": [
  {
   "cell_type": "markdown",
   "id": "5b8d455c-0ebb-40d0-ba1f-17c10fc078ea",
   "metadata": {},
   "source": [
    "# Meta-Learning"
   ]
  },
  {
   "cell_type": "code",
   "execution_count": null,
   "id": "c7599bd7-64d4-4c49-a808-8fafc380e781",
   "metadata": {},
   "outputs": [],
   "source": [
    "import numpy as np\n",
    "import matplotlib.pyplot as plt\n",
    "from tensorflow.keras.models import Sequential\n",
    "from tensorflow.keras.layers import Dense\n",
    "from tensorflow.keras.optimizers import Adam\n",
    "import tensorflow as tf\n",
    "\n",
    "np.random.seed(123)\n",
    "tf.random.set_seed(123)\n",
    "\n",
    "def generate_task():\n",
    "    coefficients = np.random.randn(3)  \n",
    "    def task(x):\n",
    "        return coefficients[0] * x**2 + coefficients[1] * x + coefficients[2] + np.random.randn(*x.shape) * 0.1\n",
    "    return task, coefficients"
   ]
  },
  {
   "cell_type": "code",
   "execution_count": null,
   "id": "6c9bdeb7-4657-4c53-abfd-be9d8e2e26cd",
   "metadata": {},
   "outputs": [],
   "source": [
    "def train_model_on_task(model, task, steps=50, learning_rate=0.01):\n",
    "    optimizer = Adam(learning_rate)\n",
    "    for _ in range(steps):\n",
    "        x = np.random.uniform(-3, 3, (50, 1))\n",
    "        y = task(x)\n",
    "        with tf.GradientTape() as tape:\n",
    "            predictions = model(x, training=True)\n",
    "            loss = tf.reduce_mean((predictions - y) ** 2)\n",
    "        gradients = tape.gradient(loss, model.trainable_variables)\n",
    "        optimizer.apply_gradients(zip(gradients, model.trainable_variables))"
   ]
  },
  {
   "cell_type": "code",
   "execution_count": null,
   "id": "97e97490-6999-4e6f-8ae4-abd159c80e55",
   "metadata": {},
   "outputs": [],
   "source": [
    "def meta_train_model(base_model, meta_steps=50, meta_learning_rate=0.1):\n",
    "    for _ in range(meta_steps):\n",
    "        task, _ = generate_task()\n",
    "        train_model_on_task(base_model, task, learning_rate=0.1)"
   ]
  },
  {
   "cell_type": "code",
   "execution_count": null,
   "id": "c04bcdde-40ff-4aef-b41c-c2d70990fcbe",
   "metadata": {},
   "outputs": [],
   "source": [
    "model = Sequential([\n",
    "    Dense(10, activation='sigmoid', kernel_initializer='random_normal', input_shape=(1,)),\n",
    "    Dense(1)])\n",
    "\n",
    "model.summary()"
   ]
  },
  {
   "cell_type": "code",
   "execution_count": null,
   "id": "9fe0890f-9a35-409d-bb87-7365f17e19b0",
   "metadata": {},
   "outputs": [],
   "source": [
    "def plot_predictions(model, task, title):\n",
    "    x = np.linspace(-3, 3, 100).reshape(-1, 1)\n",
    "    y_true = task(x)\n",
    "    y_pred = model.predict(x)\n",
    "    plt.figure(figsize=(10, 5))\n",
    "    plt.scatter(x, y_true, color='blue', label='True Values')\n",
    "    plt.scatter(x, y_pred, color='red', label='Predictions')\n",
    "    plt.title(title)\n",
    "    plt.xlabel(\"Input Feature\")\n",
    "    plt.ylabel(\"Output Value\")\n",
    "    plt.legend()\n",
    "    plt.show()\n",
    "\n",
    "complex_task, _ = generate_task()\n",
    "plot_predictions(model, complex_task, \"Model Performance Before Meta-training on Task\")"
   ]
  },
  {
   "cell_type": "code",
   "execution_count": null,
   "id": "7603d4b5-2b34-48f6-a5da-ebba6a96a34a",
   "metadata": {},
   "outputs": [],
   "source": [
    "meta_train_model(model)\n",
    "plot_predictions(model, complex_task, \"After Meta-training on Task\")"
   ]
  },
  {
   "cell_type": "markdown",
   "id": "fac0d526-a431-47e6-9173-0910e770732f",
   "metadata": {},
   "source": [
    "# Regularization"
   ]
  },
  {
   "cell_type": "code",
   "execution_count": null,
   "id": "c20880c7-d304-4d4c-a025-d89ffeb2ff20",
   "metadata": {},
   "outputs": [],
   "source": [
    "from tensorflow.keras.layers import Dropout\n",
    "from tensorflow.keras.regularizers import l2\n",
    "\n",
    "def build_regularized_model(input_shape):\n",
    "    model = Sequential([\n",
    "        Dense(64, activation='relu', input_shape=input_shape,\n",
    "              kernel_regularizer=l2(0.001)), \n",
    "        Dropout(0.3),  \n",
    "        Dense(32, activation='relu', kernel_regularizer=l2(0.001)),  \n",
    "        Dropout(0.3),  \n",
    "        Dense(16, activation='relu', kernel_regularizer=l2(0.001)), \n",
    "        Dropout(0.3), \n",
    "        Dense(1, activation='linear')  \n",
    "    ])\n",
    "    model.compile(optimizer=Adam(learning_rate=0.001),\n",
    "                  loss='mean_squared_error')\n",
    "    return model\n",
    "    \n",
    "input_shape = (10,)\n",
    "model = build_regularized_model(input_shape)\n",
    "model.summary()"
   ]
  },
  {
   "cell_type": "markdown",
   "id": "1f290b55-3866-4d60-9790-182f8e3de4d8",
   "metadata": {},
   "source": [
    "# Transfer Learning using Keras"
   ]
  },
  {
   "cell_type": "code",
   "execution_count": null,
   "id": "fd8736cd-26cb-4925-ac41-a893c4b01955",
   "metadata": {},
   "outputs": [],
   "source": [
    "from keras.applications.vgg16 import VGG16\n",
    "base_model = VGG16()\n",
    "base_model.summary()"
   ]
  },
  {
   "cell_type": "code",
   "execution_count": null,
   "id": "6759326d-b7b0-4e34-8858-2c80e7906aa8",
   "metadata": {},
   "outputs": [],
   "source": [
    "base_model = VGG16(weights='imagenet', include_top=False, input_shape=(224, 224, 3))"
   ]
  },
  {
   "cell_type": "code",
   "execution_count": null,
   "id": "9afe2081-c78a-47bb-9db4-7418b4350ec0",
   "metadata": {},
   "outputs": [],
   "source": [
    "from tensorflow.keras import layers, models\n",
    "model = models.Sequential()\n",
    "model.add(base_model)\n",
    "model.add(layers.Flatten())  \n",
    "model.add(layers.Dense(256, activation='relu'))  \n",
    "model.add(layers.Dense(1, activation='sigmoid')) "
   ]
  },
  {
   "cell_type": "code",
   "execution_count": null,
   "id": "08ba025a-9fa5-40ad-b2c4-580a27b362a4",
   "metadata": {},
   "outputs": [],
   "source": [
    "base_model.trainable = False\n",
    "model.compile(optimizer='adam', loss='binary_crossentropy', metrics=['accuracy'])"
   ]
  },
  {
   "cell_type": "markdown",
   "id": "1b2df372-b796-4fc0-ae64-f3e28f7d31a6",
   "metadata": {},
   "source": [
    "# Transfer Learning using API Services"
   ]
  },
  {
   "cell_type": "code",
   "execution_count": null,
   "id": "d441fe8e-317f-4924-9b3a-7bacb15a38b7",
   "metadata": {
    "scrolled": true
   },
   "outputs": [],
   "source": [
    "import openai\n",
    "\n",
    "openai.api_key = 'XXX' #your API key here\n",
    "\n",
    "response = openai.File.create(\n",
    "    file=open(\"path/to/your/dataset.csv\", \"rb\"),\n",
    "    purpose='fine-tune')\n",
    "file_id = response['id']\n",
    "fine_tune_response = openai.FineTune.create(training_file=file_id,\n",
    "    model=\"gpt-4\",\n",
    "    n_epochs=5)"
   ]
  },
  {
   "cell_type": "markdown",
   "id": "40897976-c225-441b-9c77-6861618a1f72",
   "metadata": {},
   "source": [
    "# Few-Shot Learning - Rebranding"
   ]
  },
  {
   "cell_type": "markdown",
   "id": "3ac5c7b2-7ba8-4794-8713-a3fa3e0b7fee",
   "metadata": {},
   "source": [
    "## Product description: ZSL"
   ]
  },
  {
   "cell_type": "code",
   "execution_count": null,
   "id": "c29f8b18-3882-4325-9f48-c6563f98f356",
   "metadata": {},
   "outputs": [],
   "source": [
    "from openai import OpenAI\n",
    "\n",
    "client = OpenAI(api_key = 'XXX' ) #your API key here\n",
    "base_prompt = \"Write a product description for an eco-friendly kitchenware product focusing on brand ethics.\"\n",
    "\n",
    "def generate_chat_completion(client, prompt, max_tokens=150, n=1, temperature=0.7, advanced_usage=False):\n",
    "    if not advanced_usage:\n",
    "        messages = [{\"role\": \"user\", \"content\": prompt}]\n",
    "    else:\n",
    "        messages = prompt \n",
    "    completion = client.chat.completions.create(\n",
    "        model=\"gpt-4\",\n",
    "        messages=messages,\n",
    "        max_tokens=max_tokens,\n",
    "        n=n,\n",
    "        temperature=temperature)\n",
    "    return completion.choices[0].message.content"
   ]
  },
  {
   "cell_type": "code",
   "execution_count": null,
   "id": "9a105377-22b3-4e0d-9e2e-cc32b0bde9c3",
   "metadata": {},
   "outputs": [],
   "source": [
    "zsl_response = generate_chat_completion(client, base_prompt)\n",
    "print(zsl_response)"
   ]
  },
  {
   "cell_type": "markdown",
   "id": "08213058-4ddd-4e22-b249-50a1447f2aa2",
   "metadata": {},
   "source": [
    "## Product description: FSL"
   ]
  },
  {
   "cell_type": "code",
   "execution_count": null,
   "id": "f08151e3-4f96-478f-8734-1fc0e11a0dd1",
   "metadata": {},
   "outputs": [],
   "source": [
    "fsl_prompts = [\n",
    "    {\"role\": \"system\", \"content\": \"Describe a product using sustainable materials that supports fair labor practices.\"},\n",
    "    {\"role\": \"user\", \"content\": \"Our latest kitchenware range not only uses biodegradable materials but is also produced in factories ensuring fair wages and safe working conditions.\"},\n",
    "    {\"role\": \"system\", \"content\": \"Write about a kitchenware product that exemplifies zero waste in packaging.\"},\n",
    "    {\"role\": \"user\", \"content\": \"Each item in our new line of cookware comes in completely recyclable packaging, designed to leave no environmental footprint.\"},\n",
    "    {\"role\": \"system\", \"content\": \"Explain how a purchase supports community engagement projects.\"},\n",
    "    {\"role\": \"user\", \"content\": \"With every purchase, a portion of the proceeds goes towards community gardens, supporting urban greening projects.\"},\n",
    "    {\"role\": \"system\", \"content\": base_prompt}]\n",
    "\n",
    "fsl_response = generate_chat_completion(client, fsl_prompts, max_tokens=150, temperature=0.7, advanced_usage=True)\n",
    "print(fsl_response)"
   ]
  },
  {
   "cell_type": "markdown",
   "id": "bd3373ee-2e51-4b2b-8b31-de501da2ff48",
   "metadata": {},
   "source": [
    "## Email marketing campaign"
   ]
  },
  {
   "cell_type": "code",
   "execution_count": null,
   "id": "41717e2d-bbfc-41fb-9735-6151f1f507c9",
   "metadata": {},
   "outputs": [],
   "source": [
    "base_prompt = \"Compose a short email to introduce our latest line of eco-friendly kitchenware. The email should be engaging, informative, and conclude with a strong call to action.\"\n",
    "\n",
    "fsl_prompts = [\n",
    "    {\"role\": \"system\", \"content\": \"Make sure to highlight the eco-friendly and zero waste aspects of the kitchenware.\"},\n",
    "    {\"role\": \"user\", \"content\": \"Our kitchenware is designed with the planet in mind, featuring products made entirely from recycled materials and ensuring zero waste in our packaging.\"},\n",
    "    {\"role\": \"system\", \"content\": \"Include information about the fair labor practices in the manufacturing process.\"},\n",
    "    {\"role\": \"user\", \"content\": \"We are committed to ethical production practices. All our products are manufactured under fair labor conditions, ensuring all workers are paid fairly and work in safe environments.\"},\n",
    "    {\"role\": \"system\", \"content\": \"Mention how purchasing these products supports community engagement projects.\"},\n",
    "    {\"role\": \"user\", \"content\": \"Every purchase supports community initiatives, including urban greening projects and community gardens that help local environments thrive.\"},\n",
    "    {\"role\": \"system\", \"content\": base_prompt}]\n",
    "\n",
    "fsl_completion = client.chat.completions.create(\n",
    "    model=\"gpt-4\",\n",
    "    messages=fsl_prompts,\n",
    "    max_tokens=300,\n",
    "    n=1,\n",
    "    temperature=0.7\n",
    ")\n",
    "print(fsl_completion.choices[0].message.content)"
   ]
  },
  {
   "cell_type": "code",
   "execution_count": null,
   "id": "0a65a6bc-7d3e-4279-8ce7-4c6efe25b94a",
   "metadata": {},
   "outputs": [],
   "source": [
    "import pandas as pd\n",
    "\n",
    "df_initial = pd.read_csv('initial_launch_data.csv')"
   ]
  },
  {
   "cell_type": "code",
   "execution_count": null,
   "id": "773d2b14-e5f1-4cb3-8cae-1c01491ed3e9",
   "metadata": {},
   "outputs": [],
   "source": [
    "def plot_campaign_kpis(df, title='Email Campaign KPIs'):\n",
    "    plt.figure(figsize=(10, 8))\n",
    "    plt.plot(df['Date'], df['Open Rate (%)'], label='Open Rate (%)', marker='o')\n",
    "    plt.plot(df['Date'], df['Click-Through Rate (%)'], label='Click-Through Rate (%)', marker='o')\n",
    "    plt.plot(df['Date'], df['Conversion Rate (%)'], label='Conversion Rate (%)', marker='o')\n",
    "    plt.plot(df['Date'], df['Unsubscribe Rate (%)'], label='Unsubscribe Rate (%)', marker='o')\n",
    "    plt.xlabel('Date')\n",
    "    plt.ylabel('Percentage')\n",
    "    plt.title(title)\n",
    "    plt.legend()\n",
    "    plt.grid(True)\n",
    "    plt.show()"
   ]
  },
  {
   "cell_type": "code",
   "execution_count": null,
   "id": "7c42a9be-2d13-488f-ae53-cd8c5eab88cf",
   "metadata": {},
   "outputs": [],
   "source": [
    "plot_campaign_kpis(df_initial, 'Email Campaign KPIs First Week after Launch')"
   ]
  },
  {
   "cell_type": "code",
   "execution_count": null,
   "id": "b2b4cbf5-699e-47bb-be51-3f811215b1c3",
   "metadata": {},
   "outputs": [],
   "source": [
    "print(f\"Average Open Rate: {df_initial['Open Rate (%)'].mean():.2f}%\")\n",
    "print(f\"Average Click-Through Rate: {df_initial['Click-Through Rate (%)'].mean():.2f}%\")\n",
    "print(f\"Average Conversion Rate: {df_initial['Conversion Rate (%)'].mean():.2f}%\")\n",
    "print(f\"Average Unsubscribe Rate: {df_initial['Unsubscribe Rate (%)'].mean():.2f}%\")"
   ]
  },
  {
   "cell_type": "code",
   "execution_count": null,
   "id": "9e9be933-bf4b-4870-b379-b1e252c67947",
   "metadata": {},
   "outputs": [],
   "source": [
    "fsl_prompts = [\n",
    "    {\"role\": \"system\", \"content\": \"Compose a short email to introduce our latest line of eco-friendly kitchenware. Highlight our zero waste and ethical manufacturing processes in terms of the labor force, and emphasize the practical benefits these practices offer to the consumer. The email should be engaging, informative, and conclude with a strong call to action. Importantly, the subject line should be as exciting and engaging as possible.\"},\n",
    "    {\"role\": \"user\", \"content\": \"Discover our new line of eco-friendly kitchenware! Designed with sustainability at heart, each piece not only supports zero waste but is ethically made, ensuring fair labor practices and substantial benefits to the environment.\"},\n",
    "    {\"role\": \"system\", \"content\": \"Mention the product variety and colors.\"},\n",
    "    {\"role\": \"user\", \"content\": \"Now available in a range of vibrant colors, our kitchenware allows you to personalize your kitchen while maintaining a commitment to sustainability.\"},\n",
    "    {\"role\": \"system\", \"content\": \"Provide care instructions.\"},\n",
    "    {\"role\": \"user\", \"content\": \"Caring for your eco-friendly kitchenware is easy. Here are some simple tips to ensure your items last longer, enhancing their sustainability.\"},\n",
    "    {\"role\": \"system\", \"content\": \"Address concerns about pricing.\"},\n",
    "    {\"role\": \"user\", \"content\": \"Invest in quality and sustainability. While initially more expensive, our kitchenware offers long-term savings and a positive impact on the planet.\"}]\n",
    "\n",
    "fsl_response = generate_chat_completion(client, fsl_prompts, max_tokens=300, temperature=0.7, advanced_usage=True)\n",
    "print(fsl_response)\n"
   ]
  },
  {
   "cell_type": "code",
   "execution_count": null,
   "id": "3147e20a-c25d-403b-aabd-0eb707e2fa17",
   "metadata": {},
   "outputs": [],
   "source": [
    "df_improved = pd.read_csv('improved_data.csv')\n",
    "plot_campaign_kpis(df_improved, 'Improved Email Campaign KPIs After FSL Refinements')"
   ]
  },
  {
   "cell_type": "code",
   "execution_count": null,
   "id": "c048c2df-1c1c-439b-b310-6959dcc827c7",
   "metadata": {},
   "outputs": [],
   "source": [
    "print(f\"Average Open Rate: {df_improved['Open Rate (%)'].mean():.2f}%\")\n",
    "print(f\"Average Click-Through Rate: {df_improved['Click-Through Rate (%)'].mean():.2f}%\")\n",
    "print(f\"Average Conversion Rate: {df_improved['Conversion Rate (%)'].mean():.2f}%\")\n",
    "print(f\"Average Unsubscribe Rate: {df_improved['Unsubscribe Rate (%)'].mean():.2f}%\")"
   ]
  }
 ],
 "metadata": {
  "kernelspec": {
   "display_name": "Python 3 (ipykernel)",
   "language": "python",
   "name": "python3"
  },
  "language_info": {
   "codemirror_mode": {
    "name": "ipython",
    "version": 3
   },
   "file_extension": ".py",
   "mimetype": "text/x-python",
   "name": "python",
   "nbconvert_exporter": "python",
   "pygments_lexer": "ipython3",
   "version": "3.11.7"
  }
 },
 "nbformat": 4,
 "nbformat_minor": 5
}
