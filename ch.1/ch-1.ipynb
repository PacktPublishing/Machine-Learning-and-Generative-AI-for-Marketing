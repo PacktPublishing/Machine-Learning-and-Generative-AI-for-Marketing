{
 "cells": [
  {
   "cell_type": "markdown",
   "id": "b34e0a58-1ddc-413c-b8c5-5059ab1a092e",
   "metadata": {},
   "source": [
    "# 1. Import libraries"
   ]
  },
  {
   "cell_type": "code",
   "execution_count": null,
   "id": "e96b8011-7b52-413b-a1be-172dadd61daa",
   "metadata": {},
   "outputs": [],
   "source": [
    "import pandas as pd  \n",
    "import seaborn as sns  \n",
    "import matplotlib.pyplot as plt  \n",
    "from sklearn.datasets import load_iris  \n",
    "from sklearn.model_selection import train_test_split  \n",
    "from sklearn.preprocessing import StandardScaler  \n",
    "from sklearn.tree import DecisionTreeClassifier, plot_tree  \n",
    "from sklearn.metrics import precision_score, recall_score, f1_score "
   ]
  },
  {
   "cell_type": "markdown",
   "id": "bb85cf3c-a1fa-41e2-b79b-00bd62845d68",
   "metadata": {},
   "source": [
    "# 2. Load the data"
   ]
  },
  {
   "cell_type": "code",
   "execution_count": null,
   "id": "62e94ffe-d7ca-4222-82af-f85e752433c1",
   "metadata": {},
   "outputs": [],
   "source": [
    "iris = load_iris() \n",
    "iris_df = pd.DataFrame(data=iris.data, columns=iris.feature_names) \n",
    "iris_df['species'] = iris.target_names[iris.target] \n",
    "iris_df.head() "
   ]
  },
  {
   "cell_type": "markdown",
   "id": "1b8c4f5b-ceef-430b-b318-a0f1000cda4d",
   "metadata": {},
   "source": [
    "# 3. Exploratory data analysis "
   ]
  },
  {
   "cell_type": "code",
   "execution_count": null,
   "id": "6e02d313-177f-43b6-bca1-680ae99a2157",
   "metadata": {},
   "outputs": [],
   "source": [
    "print(iris_df.info()) "
   ]
  },
  {
   "cell_type": "code",
   "execution_count": null,
   "id": "866a1380-a0ff-4e87-9414-95537c212691",
   "metadata": {},
   "outputs": [],
   "source": [
    "iris_df.hist(figsize=(12, 8), bins=20)\n",
    "plt.suptitle('Feature Distribution')\n",
    "plt.show()"
   ]
  },
  {
   "cell_type": "code",
   "execution_count": null,
   "id": "9b80f45d-e186-486a-880d-b1ab8004b40d",
   "metadata": {},
   "outputs": [],
   "source": [
    "sns.scatterplot(x='sepal length (cm)', y='sepal width (cm)', hue='species', data=iris_df)\n",
    "plt.title('Sepal Length vs. Sepal Width')\n",
    "plt.show()\n",
    "\n",
    "sns.scatterplot(x='petal length (cm)', y='petal width (cm)', hue='species', data=iris_df)\n",
    "plt.title('Petal Length vs. Petal Width')\n",
    "plt.show()"
   ]
  },
  {
   "cell_type": "code",
   "execution_count": null,
   "id": "411193bd-3a9e-46cb-abc0-1442e71fa639",
   "metadata": {},
   "outputs": [],
   "source": [
    "sns.pairplot(iris_df, hue='species') \n",
    "plt.show() "
   ]
  },
  {
   "cell_type": "markdown",
   "id": "77c8d2c3-d532-42f8-810c-420cf4615647",
   "metadata": {},
   "source": [
    "# 4. Preparing the data for machine learning"
   ]
  },
  {
   "cell_type": "code",
   "execution_count": null,
   "id": "c953ecdd-9b11-4252-b5f8-aa899db42308",
   "metadata": {},
   "outputs": [],
   "source": [
    "X = iris_df[['sepal length (cm)', 'sepal width (cm)', 'petal length (cm)', 'petal width (cm)']]\n",
    "y = iris_df['species']"
   ]
  },
  {
   "cell_type": "code",
   "execution_count": null,
   "id": "fff0e10d-28da-4229-9339-332aff83e6b2",
   "metadata": {},
   "outputs": [],
   "source": [
    "X_train, X_test, y_train, y_test = train_test_split(X, y, test_size=0.2, random_state=42)"
   ]
  },
  {
   "cell_type": "code",
   "execution_count": null,
   "id": "ab4aa530-3f33-49e9-b2d1-2f547afd4cf6",
   "metadata": {},
   "outputs": [],
   "source": [
    "scaler = StandardScaler()\n",
    "X_train_scaled = scaler.fit_transform(X_train)\n",
    "X_test_scaled = scaler.transform(X_test)\n",
    "X_train_scaled_df = pd.DataFrame(X_train_scaled, columns=X_train.columns)\n",
    "X_train_scaled_df.head()"
   ]
  },
  {
   "cell_type": "markdown",
   "id": "723e1177-3dc7-403f-8934-093d2229cec9",
   "metadata": {},
   "source": [
    "# 5. Training a model"
   ]
  },
  {
   "cell_type": "code",
   "execution_count": null,
   "id": "1cbe681d-61dc-499e-b3c5-94ea5f7a9764",
   "metadata": {},
   "outputs": [],
   "source": [
    "dt_classifier = DecisionTreeClassifier(random_state=42)\n",
    "dt_classifier.fit(X_train, y_train)"
   ]
  },
  {
   "cell_type": "code",
   "execution_count": null,
   "id": "d2449713-0edc-4ac0-b722-97184f2f187d",
   "metadata": {},
   "outputs": [],
   "source": [
    "y_pred = dt_classifier.predict(X_test)\n",
    "print(\"First few predictions:\", y_pred[:5])"
   ]
  },
  {
   "cell_type": "code",
   "execution_count": null,
   "id": "ff533ec8-39ed-4d53-98bc-0265c384e601",
   "metadata": {},
   "outputs": [],
   "source": [
    "plt.figure(figsize=(20,10))\n",
    "plot_tree(dt_classifier, filled=True, feature_names=iris.feature_names, class_names=iris.target_names.tolist()) "
   ]
  },
  {
   "cell_type": "markdown",
   "id": "bd35fed1-049a-418e-93c6-204ae9ac2b0a",
   "metadata": {},
   "source": [
    "# 6. Evaluating the model"
   ]
  },
  {
   "cell_type": "code",
   "execution_count": null,
   "id": "068cec68-d051-401a-b1d9-d49a308d2f10",
   "metadata": {},
   "outputs": [],
   "source": [
    "precision = precision_score(y_test, y_pred, average='macro')\n",
    "recall = recall_score(y_test, y_pred, average='macro')\n",
    "f1 = f1_score(y_test, y_pred, average='macro')\n",
    "\n",
    "print(f\"Precision: {precision:.2f}\")\n",
    "print(f\"Recall: {recall:.2f}\")\n",
    "print(f\"F1-Score: {f1:.2f}\")"
   ]
  }
 ],
 "metadata": {
  "kernelspec": {
   "display_name": "Python 3 (ipykernel)",
   "language": "python",
   "name": "python3"
  },
  "language_info": {
   "codemirror_mode": {
    "name": "ipython",
    "version": 3
   },
   "file_extension": ".py",
   "mimetype": "text/x-python",
   "name": "python",
   "nbconvert_exporter": "python",
   "pygments_lexer": "ipython3",
   "version": "3.11.7"
  }
 },
 "nbformat": 4,
 "nbformat_minor": 5
}
