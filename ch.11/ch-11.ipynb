{
 "cells": [
  {
   "cell_type": "markdown",
   "id": "f6fe26c4-ae6e-45d6-8816-de2f43ec2b59",
   "metadata": {},
   "source": [
    "# Understanding the dataset"
   ]
  },
  {
   "cell_type": "code",
   "execution_count": null,
   "id": "ed9cb445-23b1-4651-b5fd-bc1781ed2bbf",
   "metadata": {},
   "outputs": [],
   "source": [
    "import pandas as pd\n",
    "df = pd.read_csv(\"2019-Dec.csv\")\n",
    "df.head(3)"
   ]
  },
  {
   "cell_type": "code",
   "execution_count": null,
   "id": "e08e1bb4-74ce-49b5-9c07-4aa7c99c9bd8",
   "metadata": {},
   "outputs": [],
   "source": [
    "df.describe()"
   ]
  },
  {
   "cell_type": "code",
   "execution_count": null,
   "id": "9bdf52d8-bde8-4d19-8a8f-99e34e8d748b",
   "metadata": {},
   "outputs": [],
   "source": [
    "df['event_type'].value_counts()"
   ]
  },
  {
   "cell_type": "code",
   "execution_count": null,
   "id": "bbc6aa02-4adf-4a3d-959e-337e91beff0e",
   "metadata": {},
   "outputs": [],
   "source": [
    "df['brand'].value_counts()"
   ]
  },
  {
   "cell_type": "code",
   "execution_count": null,
   "id": "b05163ea-5370-44e0-a24e-1ff01f3dbd75",
   "metadata": {},
   "outputs": [],
   "source": [
    "df.isnull().sum()"
   ]
  },
  {
   "cell_type": "markdown",
   "id": "20411016-770d-4fa6-9e39-fd919f17b633",
   "metadata": {},
   "source": [
    "# Designing the Retrieval Model with LangChain"
   ]
  },
  {
   "cell_type": "code",
   "execution_count": null,
   "id": "d3861c91-1335-44a4-9176-70653f8d972e",
   "metadata": {},
   "outputs": [],
   "source": [
    "!conda install elasticsearch"
   ]
  },
  {
   "cell_type": "code",
   "execution_count": null,
   "id": "4588becc-2bf9-4097-a380-4050dfdbef51",
   "metadata": {},
   "outputs": [],
   "source": [
    "from elasticsearch import Elasticsearch\n",
    "\n",
    "es = Elasticsearch([\"http://localhost:9200\"])\n",
    "\n",
    "if not es.ping():\n",
    "    raise ValueError(\"Connection failed\")\n",
    "else:\n",
    "    print(\"Connected to Elasticsearch!\")\n"
   ]
  },
  {
   "cell_type": "code",
   "execution_count": null,
   "id": "e423b8fc-9d5b-44e6-b3c6-3529e913d0e6",
   "metadata": {},
   "outputs": [],
   "source": [
    "mapping = {\n",
    "    \"mappings\": {\n",
    "        \"properties\": {\n",
    "            \"event_time\": {\"type\": \"date\"},\n",
    "            \"event_type\": {\"type\": \"keyword\"},\n",
    "            \"product_id\": {\"type\": \"integer\"},\n",
    "            \"category_id\": {\"type\": \"long\"},\n",
    "            \"category_code\": {\n",
    "                \"type\": \"text\",\n",
    "                \"fields\": {\n",
    "                    \"keyword\": {\n",
    "                        \"type\": \"keyword\",\n",
    "                        \"ignore_above\": 256\n",
    "                    }\n",
    "                }\n",
    "            },\n",
    "            \"brand\": {\n",
    "                \"type\": \"text\",\n",
    "                \"fields\": {\n",
    "                    \"keyword\": {\n",
    "                        \"type\": \"keyword\",\n",
    "                        \"ignore_above\": 256\n",
    "                    }\n",
    "                }\n",
    "            },\n",
    "            \"price\": {\"type\": \"float\"},\n",
    "            \"user_id\": {\"type\": \"long\"},\n",
    "            \"user_session\": {\"type\": \"keyword\"}\n",
    "        }\n",
    "    }\n",
    "}\n"
   ]
  },
  {
   "cell_type": "code",
   "execution_count": null,
   "id": "25f1dbe8-f7af-4ff7-9d60-6054c5f99d0d",
   "metadata": {},
   "outputs": [],
   "source": [
    "es.indices.create(index='ecommerce_data', body=mapping, ignore=400)"
   ]
  },
  {
   "cell_type": "code",
   "execution_count": null,
   "id": "a4b8fc68-f237-42fe-8479-c29d786000a1",
   "metadata": {},
   "outputs": [],
   "source": [
    "from elasticsearch import helpers\n",
    "from tqdm import tqdm\n",
    "\n",
    "def generate_data(df):\n",
    "    for index, row in tqdm(df.iterrows(), total=len(df), desc=\"Indexing documents\"):\n",
    "        doc = {\n",
    "            \"_index\": \"ecommerce_data\",\n",
    "            \"_source\": {\n",
    "                \"event_time\": pd.to_datetime(row['event_time']).isoformat() if pd.notna(row['event_time']) else None,\n",
    "                \"event_type\": row['event_type'],\n",
    "                \"product_id\": int(row['product_id']),\n",
    "                \"category_id\": int(row['category_id']),\n",
    "                \"category_code\": row['category_code'] if pd.notna(row['category_code']) else None,\n",
    "                \"brand\": row['brand'] if pd.notna(row['brand']) else None,\n",
    "                \"price\": float(row['price']),\n",
    "                \"user_id\": int(row['user_id']),\n",
    "                \"user_session\": row['user_session'] if pd.notna(row['user_session']) else None\n",
    "            }\n",
    "        }\n",
    "        yield doc\n",
    "\n",
    "success, _ = helpers.bulk(es, generate_data(df))\n",
    "print(f\"Indexed {success} documents successfully.\")\n"
   ]
  },
  {
   "cell_type": "code",
   "execution_count": null,
   "id": "465bf0c6-5ad2-4aa9-bfc6-370c3bfe48ed",
   "metadata": {},
   "outputs": [],
   "source": [
    "from langchain_openai import ChatOpenAI\n",
    "llm = ChatOpenAI(openai_api_key='XXX', model=\"text-davinci-004\") # Replace ‘XXX’ with your API key"
   ]
  },
  {
   "cell_type": "code",
   "execution_count": null,
   "id": "7fe5ba70-c7cb-44f5-af39-740619d49698",
   "metadata": {},
   "outputs": [],
   "source": [
    "def retrieve_data_from_es(query):\n",
    "    response = es.search(index=\"ecommerce_data\", body={\"query\": {\"match\": query}})\n",
    "    return response['hits']['hits']"
   ]
  },
  {
   "cell_type": "code",
   "execution_count": null,
   "id": "30e6d20c-a778-41c9-854a-72966e7e65e3",
   "metadata": {},
   "outputs": [],
   "source": [
    "query = {\"user_id\": \"576802932\"}\n",
    "data = retrieve_data_from_es(query)"
   ]
  },
  {
   "cell_type": "code",
   "execution_count": null,
   "id": "f2e1b534-83f9-4015-80df-89af19fdf1a2",
   "metadata": {},
   "outputs": [],
   "source": [
    "removal_example = next(item for item in data if item['_source']['event_type'] == 'remove_from_cart')\n",
    "view_example = next(item for item in data if item['_source']['event_type'] == 'view')\n",
    "print(\"Removal Example:\\n\", removal_example)\n",
    "print(\"\\nView Example:\\n\", view_example)"
   ]
  },
  {
   "cell_type": "markdown",
   "id": "25fab621-6f5b-4590-9ebb-786b12448bcf",
   "metadata": {},
   "source": [
    "# Determining the Campaign Strategy"
   ]
  },
  {
   "cell_type": "markdown",
   "id": "ee7ee120-ed3c-44cb-84b8-9b825817cc90",
   "metadata": {},
   "source": [
    "## Timing"
   ]
  },
  {
   "cell_type": "code",
   "execution_count": null,
   "id": "58e9db65-58ea-4e7a-92e6-3898caef44d7",
   "metadata": {},
   "outputs": [],
   "source": [
    "import matplotlib.pyplot as plt\n",
    "\n",
    "df['event_time'] = pd.to_datetime(df['event_time'])\n",
    "df['time_of_day'] = df['event_time'].dt.hour\n",
    "\n",
    "time_of_day_data = df.groupby(['time_of_day', 'event_type']).size().unstack()\n",
    "\n",
    "fig, ax = plt.subplots(figsize=(12, 6))\n",
    "time_of_day_data.plot(ax=ax, title='User Interactions by Time of Day')\n",
    "plt.xlabel('Hour of the Day')\n",
    "plt.ylabel('Number of Events')\n",
    "plt.xticks(range(0, 24))\n",
    "plt.grid(True)\n",
    "plt.show()\n"
   ]
  },
  {
   "cell_type": "code",
   "execution_count": null,
   "id": "bfd03b9b-4485-4e9f-9646-072798945aa3",
   "metadata": {},
   "outputs": [],
   "source": [
    "top_brands = df['brand'].value_counts().nlargest(5).index\n",
    "brand_event_type_counts = df[df['brand'].isin(top_brands)].groupby(['brand', 'event_type']).size().unstack()\n",
    "brand_event_type_counts\n"
   ]
  },
  {
   "cell_type": "code",
   "execution_count": null,
   "id": "76bea41a-d8d9-45b4-b635-bb5a4780913f",
   "metadata": {},
   "outputs": [],
   "source": [
    "abandon_rate_bpw = brand_event_type_counts.loc['bpw.style', 'remove_from_cart'] / brand_event_type_counts.loc['bpw.style', 'cart']\n",
    "print(f\"Cart Abandonment Rate for bpw.style: {abandon_rate_bpw:.2f}\")\n"
   ]
  },
  {
   "cell_type": "markdown",
   "id": "a5f543db-6b30-4019-a1e7-f942f5353ee5",
   "metadata": {},
   "source": [
    "## Product discounts"
   ]
  },
  {
   "cell_type": "code",
   "execution_count": null,
   "id": "0220c4a1-be53-4fb4-a44f-9592146d4472",
   "metadata": {},
   "outputs": [],
   "source": [
    "def generate_content(data):\n",
    "    if not data:\n",
    "        return \"No data available to generate content.\"\n",
    "\n",
    "    messages = [(\"system\", \"You are an assistant that generates marketing strategies based on user activities.\")]\n",
    "    for item in data:\n",
    "        source = item['_source']\n",
    "        product_description = f\"{source['event_type']} the product {source['brand']} priced at ${source['price']} on {source['event_time']}.\"\n",
    "        messages.append((\"human\", product_description))\n",
    "\n",
    "    messages.append((\"human\", \"Based on these interactions, suggest a targeted marketing message to improve engagement that focuses on product discounts.\"))\n",
    "\n",
    "    try:\n",
    "        response = llm.invoke(messages)\n",
    "        return response\n",
    "    except Exception as e:\n",
    "        return f\"Error generating content: {str(e)}\"\n"
   ]
  },
  {
   "cell_type": "code",
   "execution_count": null,
   "id": "d6d87613-8d34-470c-bc92-821e9ad0bc6c",
   "metadata": {},
   "outputs": [],
   "source": [
    "query = {\"user_id\": \"576802932\"}\n",
    "data = retrieve_data_from_es(query)\n",
    "generate_content(data)"
   ]
  },
  {
   "cell_type": "markdown",
   "id": "9c77ae47-328f-4641-b2bb-5ea5844b56e0",
   "metadata": {},
   "source": [
    "## Example 2: Upsell"
   ]
  },
  {
   "cell_type": "code",
   "execution_count": null,
   "id": "4263e668-f435-4fb8-acce-bc4b3e1c8bd7",
   "metadata": {},
   "outputs": [],
   "source": [
    "def generate_upsell_content(data):\n",
    "    if not data:\n",
    "        return \"No data available to generate content.\"\n",
    "\n",
    "    messages = [(\"system\", \"You are an assistant that generates upsell opportunities based on user purchase history.\")]\n",
    "    for item in data:\n",
    "        source = item['_source']\n",
    "        messages.append((\"human\", f\"Identify complementary products for {source['brand']} priced at ${source['price']} that were viewed but not purchased on {source['event_time']}.\"))\n",
    "\n",
    "    messages.append((\"human\", \"Suggest an upselling strategy that could be included in a follow-up marketing email.\"))\n",
    "\n",
    "    try:\n",
    "        response = llm.invoke(messages)\n",
    "        return response.content\n",
    "    except Exception as e:\n",
    "        return f\"Error generating content: {str(e)}\"\n"
   ]
  },
  {
   "cell_type": "code",
   "execution_count": null,
   "id": "1fc00c31-5b1e-463d-832b-95b4b7a5ff38",
   "metadata": {},
   "outputs": [],
   "source": [
    "query = {\"user_id\": \"576802932\"}\n",
    "data = retrieve_data_from_es(query)\n",
    "output = generate_upsell_content(data)\n",
    "print(output)\n"
   ]
  },
  {
   "cell_type": "markdown",
   "id": "b7c43c14-e250-48e1-a089-7156b6cd8ebc",
   "metadata": {},
   "source": [
    "## Example 3: bpw.style brand targeting"
   ]
  },
  {
   "cell_type": "code",
   "execution_count": null,
   "id": "f2a24bc7-7024-4a84-b74a-0b8b13a1d01b",
   "metadata": {},
   "outputs": [],
   "source": [
    "def retrieve_bpw_style_data(es_client):\n",
    "    query = {\n",
    "        \"bool\": {\n",
    "            \"must\": [\n",
    "                {\"match\": {\"brand\": \"bpw.style\"}},\n",
    "                {\"terms\": {\"event_type\": [\"cart\", \"remove_from_cart\"]}}\n",
    "            ]\n",
    "        }\n",
    "    }\n",
    "    response = es_client.search(index=\"ecommerce_data\", body={\"query\": query, \"size\": 100})\n",
    "    return response['hits']['hits']\n"
   ]
  },
  {
   "cell_type": "code",
   "execution_count": null,
   "id": "4a576e5d-3d87-4350-aa4f-22d98f899795",
   "metadata": {},
   "outputs": [],
   "source": [
    "def generate_reengagement_content(es_client):\n",
    "    data = retrieve_bpw_style_data(es_client)\n",
    "    if not data:\n",
    "        return \"No data available to generate content.\"\n",
    "    \n",
    "    messages = [\n",
    "        (\"system\", \"You are an assistant that creates re-engagement strategies for users who have shown interest in bpw.style products but abandoned their carts.\")\n",
    "    ]\n",
    "    \n",
    "    for item in data:\n",
    "        source = item['_source']\n",
    "        interaction_desc = f\"User showed interest in {source['brand']} priced at ${source['price']} but abandoned the cart on {source['event_time']}.\"\n",
    "        messages.append((\"human\", interaction_desc))\n",
    "    \n",
    "    messages.append((\"human\", \"Generate a personalized email to re-engage the user and encourage them to complete their purchase.\"))\n",
    "    \n",
    "    try:\n",
    "        response = llm.invoke(messages)\n",
    "        return response.content\n",
    "    except Exception as e:\n",
    "        return f\"Error generating content: {str(e)}\"\n"
   ]
  },
  {
   "cell_type": "code",
   "execution_count": null,
   "id": "b2b09eab-4ea2-4b1b-897b-4b45e8aac857",
   "metadata": {},
   "outputs": [],
   "source": [
    "marketing_message = generate_reengagement_content(es)\n",
    "print(marketing_message)"
   ]
  },
  {
   "cell_type": "code",
   "execution_count": null,
   "id": "1b7fd72c-b330-49ca-8bf7-065725109807",
   "metadata": {},
   "outputs": [],
   "source": []
  },
  {
   "cell_type": "code",
   "execution_count": null,
   "id": "373f49f5-2a8a-462d-ad03-fd038b0971ca",
   "metadata": {},
   "outputs": [],
   "source": []
  }
 ],
 "metadata": {
  "kernelspec": {
   "display_name": "Python 3 (ipykernel)",
   "language": "python",
   "name": "python3"
  },
  "language_info": {
   "codemirror_mode": {
    "name": "ipython",
    "version": 3
   },
   "file_extension": ".py",
   "mimetype": "text/x-python",
   "name": "python",
   "nbconvert_exporter": "python",
   "pygments_lexer": "ipython3",
   "version": "3.11.7"
  }
 },
 "nbformat": 4,
 "nbformat_minor": 5
}
