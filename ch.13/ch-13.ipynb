{
 "cells": [
  {
   "cell_type": "markdown",
   "id": "f3002002-d52c-4541-a000-c9015cf93be3",
   "metadata": {},
   "source": [
    "# Model explainability"
   ]
  },
  {
   "cell_type": "code",
   "execution_count": null,
   "id": "e423a8cf-f3fa-45f6-8add-d0811aa79ce5",
   "metadata": {},
   "outputs": [],
   "source": [
    "import numpy as np\n",
    "import tensorflow as tf\n",
    "from transformers import TFAutoModel, AutoTokenizer\n",
    "\n",
    "model_name = \"bert-base-uncased\"\n",
    "tokenizer = AutoTokenizer.from_pretrained(model_name)\n",
    "model = TFAutoModel.from_pretrained(model_name, output_attentions=True)\n",
    "\n",
    "text = \"Write a product description for an eco-friendly kitchenware product focusing on brand ethics.\"\n",
    "inputs = tokenizer(text, return_tensors='tf')\n",
    "outputs = model(inputs)\n",
    "\n",
    "attention = outputs[-1][-1].numpy()"
   ]
  },
  {
   "cell_type": "code",
   "execution_count": null,
   "id": "2448cc82-f3dc-4e6d-9769-c2080f737341",
   "metadata": {},
   "outputs": [],
   "source": [
    "import matplotlib.pyplot as plt\n",
    "import seaborn as sns\n",
    "\n",
    "attention = attention.squeeze(axis=0)\n",
    "tokens = tokenizer.convert_ids_to_tokens(inputs[\"input_ids\"].numpy()[0])\n",
    "tokens = tokens[1:-1]  \n",
    "attention = attention[:, 1:-1, 1:-1] \n",
    "\n",
    "fig, ax = plt.subplots(figsize=(12, 10))\n",
    "sns.heatmap(attention[0], annot=True, ax=ax, cmap=\"viridis\", xticklabels=tokens, yticklabels=tokens, fmt='.2f', annot_kws={\"size\": 8})\n",
    "ax.set_title('Attention Weights for Marketing Prompt')\n",
    "plt.xticks(rotation=45, ha='right', fontsize=10)\n",
    "plt.yticks(fontsize=10)\n",
    "plt.show()"
   ]
  },
  {
   "cell_type": "markdown",
   "id": "bcc7416e-1ce8-4587-a41e-ed85bdb51ab4",
   "metadata": {},
   "source": [
    "# Data Anonymization"
   ]
  },
  {
   "cell_type": "code",
   "execution_count": null,
   "id": "4fde5255-98a2-42f0-8837-d0ac98951d03",
   "metadata": {},
   "outputs": [],
   "source": [
    "import pandas as pd\n",
    "import hashlib\n",
    "\n",
    "customer_data = pd.DataFrame({\n",
    "    'first_name': ['Alice', 'Bob', 'Charlie', 'David', 'Eve', 'Frank', 'Grace', 'Hannah', 'Ivy', 'Jack'],\n",
    "    'last_name': ['Smith', 'Jones', 'Brown', 'Johnson', 'Davis', 'Wilson', 'Moore', 'Taylor', 'Anderson', 'Thomas'],\n",
    "    'age': [25, 30, 22, 40, 35, 28, 26, 33, 29, 37],\n",
    "    'income': [20000, 35000, 27000, 50000, 45000, 30000, 32000, 38000, 31000, 47000],\n",
    "    'purchase_amount': [100, 150, 200, 250, 220, 140, 180, 160, 190, 230]\n",
    "})\n",
    "\n",
    "def pseudonymize_id(first_name, last_name):\n",
    "    return hashlib.sha256((first_name + last_name).encode()).hexdigest()\n",
    "customer_data['customer_id'] = customer_data.apply(lambda row: pseudonymize_id(row['first_name'], row['last_name']), axis=1)\n",
    "anonymized_data = customer_data.drop(columns=['first_name', 'last_name'])\n",
    "display(anonymized_data)"
   ]
  },
  {
   "cell_type": "code",
   "execution_count": null,
   "id": "12bdb231-bbbe-4dd0-b53a-417908817bba",
   "metadata": {},
   "outputs": [],
   "source": [
    "from sklearn.preprocessing import MinMaxScaler\n",
    "\n",
    "scaler = MinMaxScaler()\n",
    "anonymized_data[['age', 'income', 'purchase_amount']] = scaler.fit_transform(anonymized_data[['age', 'income', 'purchase_amount']])\n",
    "\n",
    "epsilon = 5.0  \n",
    "\n",
    "def add_noise(data, epsilon):\n",
    "    sensitivity = np.max(data) - np.min(data)\n",
    "    noise = np.random.laplace(0, sensitivity / epsilon, data.shape)\n",
    "    return data + noise\n",
    "\n",
    "noisy_data = anonymized_data.copy()\n",
    "noisy_data[['age', 'income', 'purchase_amount']] = add_noise(anonymized_data[['age', 'income', 'purchase_amount']].values, epsilon)\n",
    "\n",
    "noisy_data[['age', 'income', 'purchase_amount']] = scaler.inverse_transform(noisy_data[['age', 'income', 'purchase_amount']])\n",
    "\n",
    "print(\"Noisy Data: \\n\", noisy_data)\n",
    "\n",
    "average_purchase = noisy_data['purchase_amount'].mean()"
   ]
  },
  {
   "cell_type": "code",
   "execution_count": null,
   "id": "2f63c6b6-a4da-4591-a8c4-2249e8fed9ce",
   "metadata": {},
   "outputs": [],
   "source": [
    "def plot_data_with_trend_lines(original_data, anonymized_data, noisy_data):\n",
    "    fig, ax = plt.subplots(1, 3, figsize=(18, 6))\n",
    "    \n",
    "    ax[0].scatter(original_data['age'], original_data['purchase_amount'], color='blue')\n",
    "    z = np.polyfit(original_data['age'], original_data['purchase_amount'], 1)\n",
    "    p = np.poly1d(z)\n",
    "    ax[0].plot(original_data['age'], p(original_data['age']), \"r--\")\n",
    "    ax[0].set_title('Original Data')\n",
    "    ax[0].set_xlabel('Age')\n",
    "    ax[0].set_ylabel('Purchase Amount')\n",
    "    \n",
    "    ax[1].scatter(anonymized_data['age'], anonymized_data['purchase_amount'], color='green')\n",
    "    z = np.polyfit(anonymized_data['age'], anonymized_data['purchase_amount'], 1)\n",
    "    p = np.poly1d(z)\n",
    "    ax[1].plot(anonymized_data['age'], p(anonymized_data['age']), \"r--\")\n",
    "    ax[1].set_title('Anonymized Data')\n",
    "    ax[1].set_xlabel('Age')\n",
    "    ax[1].set_ylabel('Purchase Amount')\n",
    "    \n",
    "    ax[2].scatter(noisy_data['age'], noisy_data['purchase_amount'], color='red')\n",
    "    z = np.polyfit(noisy_data['age'], noisy_data['purchase_amount'], 1)\n",
    "    p = np.poly1d(z)\n",
    "    ax[2].plot(noisy_data['age'], p(noisy_data['age']), \"r--\")\n",
    "    ax[2].set_title('Noisy Data with Differential Privacy')\n",
    "    ax[2].set_xlabel('Age')\n",
    "    ax[2].set_ylabel('Purchase Amount')\n",
    "    \n",
    "    plt.tight_layout()\n",
    "    plt.show()\n",
    "\n",
    "plot_data_with_trend_lines(customer_data, anonymized_data, noisy_data)\n"
   ]
  }
 ],
 "metadata": {
  "kernelspec": {
   "display_name": "Python 3 (ipykernel)",
   "language": "python",
   "name": "python3"
  },
  "language_info": {
   "codemirror_mode": {
    "name": "ipython",
    "version": 3
   },
   "file_extension": ".py",
   "mimetype": "text/x-python",
   "name": "python",
   "nbconvert_exporter": "python",
   "pygments_lexer": "ipython3",
   "version": "3.11.7"
  }
 },
 "nbformat": 4,
 "nbformat_minor": 5
}
